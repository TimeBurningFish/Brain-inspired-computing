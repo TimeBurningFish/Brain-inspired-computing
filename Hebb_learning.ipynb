{
 "cells": [
  {
   "cell_type": "code",
   "execution_count": 1,
   "metadata": {},
   "outputs": [],
   "source": [
    "import numpy as np"
   ]
  },
  {
   "cell_type": "code",
   "execution_count": 25,
   "metadata": {},
   "outputs": [],
   "source": [
    "class Hebb(object):\n",
    "    def __init__(self):\n",
    "        self.weights = np.zeros((30,30))\n",
    "        self.n = 30\n",
    "    \n",
    "    def f(self,x):\n",
    "        x[x>0] = 1\n",
    "        x[x<=0] = -1\n",
    "        return x\n",
    "    \n",
    "    def wild_hebb(self, vec):\n",
    "        raw = self.weights * vec.repeat(self.n).reshape(self.n, self.n)\n",
    "        new = np.zeros_like(raw.reshape(30, 30))\n",
    "        u, v = new.shape\n",
    "        for i in range(u):\n",
    "            for j in range(v):\n",
    "                new[i, j] = np.sum(raw[0:j+1, i])\n",
    "        delta_w = vec.repeat(self.n).reshape(self.n, self.n) * new\n",
    "        return delta_w\n",
    "\n",
    "    def train_new(self, input_vector, iter_, rate):\n",
    "        for i in range(iter_):\n",
    "            for vec in input_vector:\n",
    "                vec = np.matrix(vec)\n",
    "\t\t#这里可以使用广义hebb算法中的权重更新算法\n",
    "                wild_hebb = self.wild_hebb(vec)\n",
    "                delta = np.ones_like(wild_hebb)\n",
    "                index = np.where(wild_hebb < 0)\n",
    "                delta[index] = -1\n",
    "                self.weights = self.weights + rate * vec.getT().dot(vec)\n",
    "            \n",
    "    def train(self, input_vector, iter_, rate):\n",
    "        for i in range(iter_):\n",
    "            for vec in input_vector:\n",
    "                vec = np.matrix(vec)\n",
    "\t\t#这里可以使用广义hebb算法中的权重更新算法\n",
    "                self.weights = self.weights + rate * vec.getT().dot(vec)\n",
    "        return self.weights\n",
    "    \n",
    "    def predict(self, input_vector):\n",
    "         return self.weights.dot(np.matrix(input_vector).getT())"
   ]
  },
  {
   "cell_type": "code",
   "execution_count": 70,
   "metadata": {},
   "outputs": [],
   "source": [
    "def add_noise(x,threshold):\n",
    "    if len(x.shape) >=2:\n",
    "        for i in range(x.shape[1]):\n",
    "            random_c = np.random.randint(0,1000)\n",
    "            if random_c < threshold*1000:\n",
    "                x[0,i] = -x[0,i]\n",
    "    else:\n",
    "        print(x.shape)\n",
    "        for i in range(len(x)):\n",
    "            random_c = np.random.randint(0,1000)\n",
    "            if random_c < threshold*1000:\n",
    "                x[i] = -x[i]\n",
    "            \n",
    "    return x"
   ]
  },
  {
   "cell_type": "code",
   "execution_count": 71,
   "metadata": {},
   "outputs": [],
   "source": [
    "zero = [\n",
    "    -1, 1, 1, 1, -1,\n",
    "    1, -1, -1, -1, 1,\n",
    "    1, -1, -1, -1, 1,\n",
    "    1, -1, -1, -1, 1,\n",
    "    1, -1, -1, -1, 1,\n",
    "    -1, 1, 1, 1, -1\n",
    "    ]\n",
    "\n",
    "one = [\n",
    "    -1, 1, 1, -1, -1,\n",
    "    -1, -1, 1, -1, -1,\n",
    "    -1, -1, 1, -1, -1,\n",
    "    -1, -1, 1, -1, -1,\n",
    "    -1, -1, 1, -1, -1,\n",
    "    -1, -1, 1, -1, -1\n",
    "    ]\n",
    "\n",
    "two = [\n",
    "    1, -1, 1, -1, -1,\n",
    "    -1, -1, -1, 1, -1,\n",
    "    -1, -1, -1, 1, -1,\n",
    "    -1, 1, 1, -1, -1,\n",
    "    1, -1, -1, -1, -1,\n",
    "    1, 1, 1, 1, 1,\n",
    "    ]\n",
    "half_zero = [\n",
    "1, 1, 1, 1, 1,\n",
    "1, -1, -1, -1, 1,\n",
    "1, -1, 1, -1, 1,\n",
    "1, -1, -1, -1, 1,\n",
    "-1, -1, -1, -1, -1,\n",
    "-1, -1, -1, -1, -1,\n",
    "]\n"
   ]
  },
  {
   "cell_type": "markdown",
   "metadata": {},
   "source": [
    "### 原始"
   ]
  },
  {
   "cell_type": "code",
   "execution_count": 72,
   "metadata": {},
   "outputs": [
    {
     "name": "stdout",
     "output_type": "stream",
     "text": [
      "[[-3.36000000e+03  3.36000000e+03  9.60000000e+02  2.40000000e+03\n",
      "  -9.60000000e+02]\n",
      " [ 2.40000000e+03 -9.60000000e+02 -3.06954462e-11 -3.36000000e+03\n",
      "   2.40000000e+03]\n",
      " [ 2.40000000e+03 -9.60000000e+02 -3.06954462e-11 -3.36000000e+03\n",
      "   2.40000000e+03]\n",
      " [ 2.40000000e+03 -3.36000000e+03 -2.40000000e+03 -9.60000000e+02\n",
      "   2.40000000e+03]\n",
      " [ 3.06954462e-11 -9.60000000e+02 -3.06954462e-11 -9.60000000e+02\n",
      "   2.40000000e+03]\n",
      " [-3.36000000e+03  3.06954462e-11  9.60000000e+02  3.06954462e-11\n",
      "  -3.36000000e+03]]\n"
     ]
    }
   ],
   "source": [
    "hebb  = Hebb()\n",
    "w=hebb.train([zero, one, two], 600, 0.2)\n",
    "pre = hebb.predict(half_zero)\n",
    "print(pre.reshape((6,5)))\n",
    "def draw_bin_image(image_matrix):\n",
    "    for row in image_matrix.tolist():\n",
    "        print('| ' + ' '.join(' *'[int(val)] for val in row))\n"
   ]
  },
  {
   "cell_type": "code",
   "execution_count": 73,
   "metadata": {},
   "outputs": [],
   "source": [
    "def acti_fun(x):\n",
    "    for i in range(x.size):\n",
    "        if x[i] > 0:\n",
    "            x[i] =1\n",
    "        else:\n",
    "            x[i] =0\n",
    "    return x\n"
   ]
  },
  {
   "cell_type": "code",
   "execution_count": 74,
   "metadata": {},
   "outputs": [
    {
     "name": "stdout",
     "output_type": "stream",
     "text": [
      "| * * * * *\n",
      "| *       *\n",
      "| *   *   *\n",
      "| *       *\n",
      "|          \n",
      "|          \n"
     ]
    }
   ],
   "source": [
    "draw_bin_image(acti_fun(np.array(half_zero)).reshape((6,5)))"
   ]
  },
  {
   "cell_type": "code",
   "execution_count": 75,
   "metadata": {},
   "outputs": [
    {
     "name": "stdout",
     "output_type": "stream",
     "text": [
      "|   * * *  \n",
      "| *       *\n",
      "| *       *\n",
      "| *       *\n",
      "| *       *\n",
      "|   * * *  \n"
     ]
    }
   ],
   "source": [
    "draw_bin_image(acti_fun(pre).reshape((6,5)))"
   ]
  },
  {
   "cell_type": "code",
   "execution_count": 77,
   "metadata": {},
   "outputs": [
    {
     "name": "stdout",
     "output_type": "stream",
     "text": [
      "|   *   *  \n",
      "| *       *\n",
      "|         *\n",
      "| * *     *\n",
      "| *     * *\n",
      "|   * * *  \n"
     ]
    }
   ],
   "source": [
    "zero_noise = add_noise(np.matrix(zero),0.2)\n",
    "draw_bin_image(acti_fun(np.array(zero_noise).reshape(30,)).reshape((6,5)))"
   ]
  },
  {
   "cell_type": "code",
   "execution_count": 78,
   "metadata": {},
   "outputs": [
    {
     "name": "stdout",
     "output_type": "stream",
     "text": [
      "|   * * *  \n",
      "| *       *\n",
      "| *       *\n",
      "| *       *\n",
      "| *       *\n",
      "|   * * *  \n"
     ]
    }
   ],
   "source": [
    "pre = hebb.predict(zero_noise)\n",
    "draw_bin_image(acti_fun(pre).reshape((6,5)))"
   ]
  },
  {
   "cell_type": "markdown",
   "metadata": {},
   "source": [
    "### 广义"
   ]
  },
  {
   "cell_type": "code",
   "execution_count": 81,
   "metadata": {},
   "outputs": [
    {
     "name": "stdout",
     "output_type": "stream",
     "text": [
      "[[-3.36000000e+03  3.36000000e+03  9.60000000e+02  2.40000000e+03\n",
      "  -9.60000000e+02]\n",
      " [ 2.40000000e+03 -9.60000000e+02 -3.06954462e-11 -3.36000000e+03\n",
      "   2.40000000e+03]\n",
      " [ 2.40000000e+03 -9.60000000e+02 -3.06954462e-11 -3.36000000e+03\n",
      "   2.40000000e+03]\n",
      " [ 2.40000000e+03 -3.36000000e+03 -2.40000000e+03 -9.60000000e+02\n",
      "   2.40000000e+03]\n",
      " [ 3.06954462e-11 -9.60000000e+02 -3.06954462e-11 -9.60000000e+02\n",
      "   2.40000000e+03]\n",
      " [-3.36000000e+03  3.06954462e-11  9.60000000e+02  3.06954462e-11\n",
      "  -3.36000000e+03]]\n"
     ]
    }
   ],
   "source": [
    "hebb  = Hebb()\n",
    "## here changed\n",
    "w=hebb.train_new([zero, one, two], 600, 0.2)\n",
    "pre = hebb.predict(half_zero)\n",
    "print(pre.reshape((6,5)))\n",
    "def draw_bin_image(image_matrix):\n",
    "    for row in image_matrix.tolist():\n",
    "        print('| ' + ' '.join(' *'[int(val)] for val in row))"
   ]
  },
  {
   "cell_type": "code",
   "execution_count": 82,
   "metadata": {},
   "outputs": [
    {
     "name": "stdout",
     "output_type": "stream",
     "text": [
      "| * * * * *\n",
      "| *       *\n",
      "| *   *   *\n",
      "| *       *\n",
      "|          \n",
      "|          \n"
     ]
    }
   ],
   "source": [
    "draw_bin_image(acti_fun(np.array(half_zero)).reshape((6,5)))"
   ]
  },
  {
   "cell_type": "code",
   "execution_count": 83,
   "metadata": {},
   "outputs": [
    {
     "name": "stdout",
     "output_type": "stream",
     "text": [
      "|   * * *  \n",
      "| *       *\n",
      "| *       *\n",
      "| *       *\n",
      "| *       *\n",
      "|   * * *  \n"
     ]
    }
   ],
   "source": [
    "pre = hebb.predict(half_zero)\n",
    "draw_bin_image(acti_fun(pre).reshape((6,5)))"
   ]
  },
  {
   "cell_type": "code",
   "execution_count": 84,
   "metadata": {},
   "outputs": [
    {
     "name": "stdout",
     "output_type": "stream",
     "text": [
      "| * * *    \n",
      "| *       *\n",
      "|     * *  \n",
      "|       * *\n",
      "|   *     *\n",
      "| * * * *  \n"
     ]
    }
   ],
   "source": [
    "zero_noise = add_noise(np.matrix(zero),0.2)\n",
    "draw_bin_image(acti_fun(np.array(zero_noise).reshape(30,)).reshape((6,5)))"
   ]
  },
  {
   "cell_type": "code",
   "execution_count": 85,
   "metadata": {},
   "outputs": [
    {
     "name": "stdout",
     "output_type": "stream",
     "text": [
      "|   * * *  \n",
      "| *       *\n",
      "| *       *\n",
      "| *       *\n",
      "| *       *\n",
      "|   * * *  \n"
     ]
    }
   ],
   "source": [
    "pre = hebb.predict(zero_noise)\n",
    "draw_bin_image(acti_fun(pre).reshape((6,5)))"
   ]
  }
 ],
 "metadata": {
  "kernelspec": {
   "display_name": "Python 3",
   "language": "python",
   "name": "python3"
  },
  "language_info": {
   "codemirror_mode": {
    "name": "ipython",
    "version": 3
   },
   "file_extension": ".py",
   "mimetype": "text/x-python",
   "name": "python",
   "nbconvert_exporter": "python",
   "pygments_lexer": "ipython3",
   "version": "3.6.5"
  }
 },
 "nbformat": 4,
 "nbformat_minor": 2
}
