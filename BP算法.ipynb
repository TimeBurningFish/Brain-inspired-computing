{
 "cells": [
  {
   "cell_type": "markdown",
   "metadata": {},
   "source": [
    "## BP算法"
   ]
  },
  {
   "cell_type": "markdown",
   "metadata": {},
   "source": [
    "### sigmoid 函数 "
   ]
  },
  {
   "cell_type": "code",
   "execution_count": 15,
   "metadata": {},
   "outputs": [],
   "source": [
    "import numpy as np\n",
    "import matplotlib.pyplot as plt"
   ]
  },
  {
   "cell_type": "markdown",
   "metadata": {},
   "source": [
    "#### 前项计算\n",
    "$$ z_1 = W_1 * x$$ \n",
    "$$ z_2 = \\delta(z_1)$$\n",
    "$$ z_3 = W_2 * z_2$$\n",
    "$$ z_4 = \\delta(z_3)$$ \n",
    "$$ loss = (z_4 - real)^2 $$\n",
    "#### 已知\n",
    "$$ f(x) = \\delta(x) $$\n",
    "$$ f'(x) = \\delta(x)(1-\\delta(x)) $$\n",
    "#### 反向传播\n",
    "\n",
    "$$ \\delta_1 = \\frac{dloss}{dz_4} = 2z_4 - 2real $$\n",
    "$$ \\delta_2 = \\frac{dz_4}{dz_3} = \\delta(z_3)(1-\\delta(z_3)) $$\n",
    "$$ \\delta_3 = \\frac{dz_3}{dW_2} = z_2 $$\n",
    "$$ \\delta_4 = \\frac{dz_3}{dz_2} = W_2 $$\n",
    "$$ \\delta_5 = \\frac{dz_2}{dz_1} = \\delta(z_1)(1-\\delta(z_1)) $$\n",
    "$$ \\delta_6 = \\frac{dz_1}{dW_1} = z_1 $$\n",
    "\n",
    "#### 根据链式法则\n",
    "\n",
    "$$ W_2 = W_2 - \\eta \\delta_1 \\delta_2 \\delta_4 $$\n",
    "\n",
    "$$ W_2 = W_2 - \\eta \\delta_1 \\delta_2 \\delta_3 \\delta_5 \\delta_6$$"
   ]
  },
  {
   "cell_type": "code",
   "execution_count": 35,
   "metadata": {},
   "outputs": [],
   "source": [
    "losses = []\n",
    "def sigmoid(x):#激活函数\n",
    "    return 1/(1+np.exp(-x))\n",
    "input = np.array([[0.35], [0.9]]) #输入数据\n",
    "w1 = np.array([[0.1, 0.8], [0.4, 0.6]])#第一层权重参数\n",
    "w2 = np.array([0.3, 0.9])#第二层权重参数\n",
    " \n",
    "real = np.array([[0.5]])#真实值\n",
    "for s in range(0,1000,1):\n",
    "    pq = sigmoid(np.dot(w1,input))#第一层输出\n",
    "    output = sigmoid(np.dot(w2,pq))#第二层输出,也即是最终输出\n",
    "    e = output-real #误差\n",
    "    loss = np.square(e)/2\n",
    "    losses.append(loss[0])\n",
    "    if loss<1e-12:\n",
    "        break\n",
    "    else:\n",
    "        #否则,按照梯度下降计算权重参数\n",
    "        #其中,应用链式法则计算权重参数的更新量\n",
    "        w2 = w2 - e*output*(1-output)*pq.T\n",
    "        w1 = w1 - e*output*(1-output)*w2*pq.T*(1-pq.T)*input"
   ]
  },
  {
   "cell_type": "code",
   "execution_count": 36,
   "metadata": {},
   "outputs": [
    {
     "name": "stdout",
     "output_type": "stream",
     "text": [
      "[[0.10075115 0.75743519]\n",
      " [0.40193153 0.49054763]]\n",
      "[[-0.30384153  0.31823294]]\n",
      "[[0.50000137]]\n"
     ]
    }
   ],
   "source": [
    "print(w1)\n",
    "print(w2) \n",
    "print(output)"
   ]
  },
  {
   "cell_type": "markdown",
   "metadata": {},
   "source": [
    "### 结果"
   ]
  },
  {
   "cell_type": "code",
   "execution_count": 37,
   "metadata": {},
   "outputs": [
    {
     "data": {
      "text/plain": [
       "[<matplotlib.lines.Line2D at 0x7fbe2540d9e8>]"
      ]
     },
     "execution_count": 37,
     "metadata": {},
     "output_type": "execute_result"
    },
    {
     "data": {
      "image/png": "[encoded data removed]",
      "text/plain": [
       "<Figure size 432x288 with 1 Axes>"
      ]
     },
     "metadata": {},
     "output_type": "display_data"
    }
   ],
   "source": [
    "x = np.arange(0,len(losses),1)\n",
    "plt.plot(x,losses,\"-\")"
   ]
  },
  {
   "cell_type": "markdown",
   "metadata": {},
   "source": [
    "### relu 函数"
   ]
  },
  {
   "cell_type": "markdown",
   "metadata": {},
   "source": [
    "#### 前项计算\n",
    "$$ z_1 = W_1 * x$$ \n",
    "$$ z_2 = relu(z_1)$$\n",
    "$$ z_3 = W_2 * z_2$$\n",
    "$$ z_4 = relu(z_3)$$ \n",
    "$$ loss = (z_4 - real)^2 $$\n",
    "#### 已知\n",
    "$$ f(x) = relu(x) $$\n",
    "###### 定义\n",
    "$$g(x) = \n",
    "\\left\\{\\begin{array}{cc} \n",
    "\t\t1, & x>0\\\\ \n",
    "\t\t0, & x\\leq 0 \n",
    "\\end{array}\\right.\n",
    "$$\n",
    "###### 则\n",
    "$$ f'(x) = g(x) $$\n",
    "#### 反向传播\n",
    "\n",
    "$$ \\delta_1 = \\frac{dloss}{dz_4} = 2z_4 - 2real $$\n",
    "$$ \\delta_2 = \\frac{dz_4}{dz_3} = g(z_3) $$\n",
    "$$ \\delta_3 = \\frac{dz_3}{dW_2} = z_2 $$\n",
    "$$ \\delta_4 = \\frac{dz_3}{dz_2} = W_2 $$\n",
    "$$ \\delta_5 = \\frac{dz_2}{dz_1} = g(z_1) $$\n",
    "$$ \\delta_6 = \\frac{dz_1}{dW_1} = z_1 $$\n",
    "\n",
    "#### 根据链式法则\n",
    "\n",
    "$$ W_2 = W_2 - \\eta \\delta_1 \\delta_2 \\delta_4 $$\n",
    "\n",
    "$$ W_2 = W_2 - \\eta \\delta_1 \\delta_2 \\delta_3 \\delta_5 \\delta_6$$"
   ]
  },
  {
   "cell_type": "code",
   "execution_count": 38,
   "metadata": {},
   "outputs": [],
   "source": [
    "losses = []\n",
    "def relu(x):#激活函数\n",
    "    x_index = x <= 0\n",
    "    x[x_index] = 0\n",
    "    return x\n",
    "\n",
    "def bp_relu(x):#激活函数求导结果\n",
    "    x_index = x <= 0\n",
    "    x[x_index] = 0\n",
    "    x_index = x > 0\n",
    "    x[x_index] = 1\n",
    "    return x\n",
    "\n",
    "input = np.array([[0.35], [0.9]]) #输入数据\n",
    "w1 = np.array([[0.1, 0.8], [0.4, 0.6]])#第一层权重参数\n",
    "w2 = np.array([0.3, 0.9])#第二层权重参数\n",
    " \n",
    "real = np.array([[0.5]])#真实值\n",
    "for s in range(0,1000,1):\n",
    "    pq = relu(np.dot(w1,input))#第一层输出\n",
    "    output = relu(np.dot(w2,pq))#第二层输出,也即是最终输出\n",
    "    e = output-real #误差\n",
    "    loss = np.square(e)/2\n",
    "    losses.append(loss[0])\n",
    "    if loss<1e-12:\n",
    "        break\n",
    "    else:\n",
    "        #否则,按照梯度下降计算权重参数\n",
    "        #其中,应用链式法则计算权重参数的更新量\n",
    "        w2 = w2 - e*bp_relu(output)*pq.T\n",
    "        w1 = w1 - e*bp_relu(output)*w2*bp_relu(pq.T)*input"
   ]
  },
  {
   "cell_type": "code",
   "execution_count": 39,
   "metadata": {},
   "outputs": [
    {
     "name": "stdout",
     "output_type": "stream",
     "text": [
      "[[0.10070437 0.75123983]\n",
      " [0.40181123 0.47461672]]\n",
      "[[0.12382036 0.72547718]]\n",
      "[[0.49999909]]\n"
     ]
    }
   ],
   "source": [
    "print(w1)\n",
    "print(w2) \n",
    "print(output)"
   ]
  },
  {
   "cell_type": "markdown",
   "metadata": {},
   "source": [
    "### 结果"
   ]
  },
  {
   "cell_type": "code",
   "execution_count": 40,
   "metadata": {},
   "outputs": [
    {
     "data": {
      "text/plain": [
       "[<matplotlib.lines.Line2D at 0x7fbe25381630>]"
      ]
     },
     "execution_count": 40,
     "metadata": {},
     "output_type": "execute_result"
    },
    {
     "data": {
      "image/png": "[encoded data removed]",
      "text/plain": [
       "<Figure size 432x288 with 1 Axes>"
      ]
     },
     "metadata": {},
     "output_type": "display_data"
    }
   ],
   "source": [
    "x = np.arange(0,len(losses),1)\n",
    "plt.plot(x,losses,\"-\")"
   ]
  }
 ],
 "metadata": {
  "kernelspec": {
   "display_name": "Python 3",
   "language": "python",
   "name": "python3"
  },
  "language_info": {
   "codemirror_mode": {
    "name": "ipython",
    "version": 3
   },
   "file_extension": ".py",
   "mimetype": "text/x-python",
   "name": "python",
   "nbconvert_exporter": "python",
   "pygments_lexer": "ipython3",
   "version": "3.6.5"
  }
 },
 "nbformat": 4,
 "nbformat_minor": 2
}
