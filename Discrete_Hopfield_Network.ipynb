{
 "cells": [
  {
   "cell_type": "markdown",
   "metadata": {},
   "source": [
    "# Discrete Hopfield Network（离散Hopfield网络）"
   ]
  },
  {
   "cell_type": "code",
   "execution_count": 1,
   "metadata": {},
   "outputs": [
    {
     "name": "stderr",
     "output_type": "stream",
     "text": [
      "/dl_data/zhouyang/anaconda3/lib/python3.6/site-packages/h5py/__init__.py:36: FutureWarning: Conversion of the second argument of issubdtype from `float` to `np.floating` is deprecated. In future, it will be treated as `np.float64 == np.dtype(float).type`.\n",
      "  from ._conv import register_converters as _register_converters\n"
     ]
    }
   ],
   "source": [
    "import numpy as np\n",
    "from neupy import algorithms"
   ]
  },
  {
   "cell_type": "code",
   "execution_count": 2,
   "metadata": {},
   "outputs": [],
   "source": [
    "def draw_bin_image(image_matrix):\n",
    "    for row in image_matrix.tolist():\n",
    "        print('| ' + ' '.join(' *'[val] for val in row))"
   ]
  },
  {
   "cell_type": "code",
   "execution_count": 150,
   "metadata": {},
   "outputs": [],
   "source": [
    "def add_noise(x,threshold):\n",
    "    if len(x.shape) >2:\n",
    "        for i in range(x.shape[1]):\n",
    "            random_c = np.random.randint(0,1000)\n",
    "            if random_c < threshold*1000:\n",
    "                x[0,i] = 1-x[0,i]\n",
    "    else:\n",
    "        for i in range(len(x)):\n",
    "            random_c = np.random.randint(0,1000)\n",
    "            if random_c < threshold*1000:\n",
    "                x[i] = 1-x[i]\n",
    "    return x"
   ]
  },
  {
   "cell_type": "code",
   "execution_count": 136,
   "metadata": {},
   "outputs": [],
   "source": [
    "zero = np.matrix([\n",
    "    0, 1, 1, 1, 0,\n",
    "    1, 0, 0, 0, 1,\n",
    "    1, 0, 0, 0, 1,\n",
    "    1, 0, 0, 0, 1,\n",
    "    1, 0, 0, 0, 1,\n",
    "    0, 1, 1, 1, 0\n",
    "])\n",
    "one = np.matrix([\n",
    "    0, 1, 1, 0, 0,\n",
    "    0, 0, 1, 0, 0,\n",
    "    0, 0, 1, 0, 0,\n",
    "    0, 0, 1, 0, 0,\n",
    "    0, 0, 1, 0, 0,\n",
    "    0, 0, 1, 0, 0\n",
    "])\n",
    "two = np.matrix([\n",
    "    1, 1, 1, 0, 0,\n",
    "    0, 0, 0, 1, 0,\n",
    "    0, 0, 0, 1, 0,\n",
    "    0, 1, 1, 0, 0,\n",
    "    1, 0, 0, 0, 0,\n",
    "    1, 1, 1, 1, 1,\n",
    "])"
   ]
  },
  {
   "cell_type": "code",
   "execution_count": 4,
   "metadata": {},
   "outputs": [
    {
     "name": "stdout",
     "output_type": "stream",
     "text": [
      "|   * * *  \n",
      "| *       *\n",
      "| *       *\n",
      "| *       *\n",
      "| *       *\n",
      "|   * * *  \n"
     ]
    }
   ],
   "source": [
    "draw_bin_image(zero.reshape((6, 5)))"
   ]
  },
  {
   "cell_type": "markdown",
   "metadata": {},
   "source": [
    "## Hopfield 训练与使用\n",
    "* 训练：即简单拟合\n",
    "* 使用：噪声数据输入 激活对应部分 输出"
   ]
  },
  {
   "cell_type": "code",
   "execution_count": 15,
   "metadata": {},
   "outputs": [],
   "source": [
    "data = np.concatenate([zero, one, two], axis=0)\n",
    "dhnet = algorithms.DiscreteHopfieldNetwork(mode='sync')\n",
    "dhnet.train(data)"
   ]
  },
  {
   "cell_type": "code",
   "execution_count": 7,
   "metadata": {},
   "outputs": [
    {
     "name": "stdout",
     "output_type": "stream",
     "text": [
      "|   * * *  \n",
      "| *       *\n",
      "| *       *\n",
      "|          \n",
      "|          \n",
      "|          \n"
     ]
    }
   ],
   "source": [
    "half_zero = np.matrix([\n",
    "    0, 1, 1, 1, 0,\n",
    "    1, 0, 0, 0, 1,\n",
    "    1, 0, 0, 0, 1,\n",
    "    0, 0, 0, 0, 0,\n",
    "    0, 0, 0, 0, 0,\n",
    "    0, 0, 0, 0, 0,\n",
    "])\n",
    "draw_bin_image(half_zero.reshape((6, 5)))\n"
   ]
  },
  {
   "cell_type": "code",
   "execution_count": 8,
   "metadata": {},
   "outputs": [
    {
     "name": "stdout",
     "output_type": "stream",
     "text": [
      "|          \n",
      "|          \n",
      "|          \n",
      "|   * *    \n",
      "| *        \n",
      "| * * * * *\n"
     ]
    }
   ],
   "source": [
    "half_two = np.matrix([\n",
    "    0, 0, 0, 0, 0,\n",
    "    0, 0, 0, 0, 0,\n",
    "    0, 0, 0, 0, 0,\n",
    "    0, 1, 1, 0, 0,\n",
    "    1, 0, 0, 0, 0,\n",
    "    1, 1, 1, 1, 1,\n",
    "])\n",
    "draw_bin_image(half_two.reshape((6, 5)))"
   ]
  },
  {
   "cell_type": "code",
   "execution_count": 10,
   "metadata": {},
   "outputs": [
    {
     "name": "stdout",
     "output_type": "stream",
     "text": [
      "|   * * *  \n",
      "| *       *\n",
      "| *       *\n",
      "| *       *\n",
      "| *       *\n",
      "|   * * *  \n"
     ]
    }
   ],
   "source": [
    "result = dhnet.predict(half_zero)\n",
    "draw_bin_image(result.reshape((6, 5)))"
   ]
  },
  {
   "cell_type": "code",
   "execution_count": 11,
   "metadata": {},
   "outputs": [
    {
     "name": "stdout",
     "output_type": "stream",
     "text": [
      "| * * *    \n",
      "|       *  \n",
      "|       *  \n",
      "|   * *    \n",
      "| *        \n",
      "| * * * * *\n"
     ]
    }
   ],
   "source": [
    "result = dhnet.predict(half_two)\n",
    "draw_bin_image(result.reshape((6, 5)))"
   ]
  },
  {
   "cell_type": "code",
   "execution_count": 12,
   "metadata": {},
   "outputs": [
    {
     "name": "stdout",
     "output_type": "stream",
     "text": [
      "|   * *    \n",
      "|     *    \n",
      "|     *    \n",
      "|   * *    \n",
      "| *   *    \n",
      "| * * * * *\n"
     ]
    }
   ],
   "source": [
    "half_two = np.matrix([\n",
    "    1, 1, 1, 0, 0,\n",
    "    0, 0, 0, 1, 0,\n",
    "    0, 0, 0, 1, 0,\n",
    "    0, 0, 0, 0, 0,\n",
    "    0, 0, 0, 0, 0,\n",
    "    0, 0, 0, 0, 0,\n",
    "])\n",
    "\n",
    "result = dhnet.predict(half_two)\n",
    "draw_bin_image(result.reshape((6, 5)))"
   ]
  },
  {
   "cell_type": "code",
   "execution_count": 116,
   "metadata": {},
   "outputs": [
    {
     "name": "stdout",
     "output_type": "stream",
     "text": [
      "| *   *   *\n",
      "|   * *    \n",
      "| *   * *  \n",
      "|       *  \n",
      "|   * *    \n",
      "| *   * *  \n"
     ]
    }
   ],
   "source": [
    "noise_two = add_noise(two,0.2)\n",
    "draw_bin_image(noise_two.reshape(6,5))"
   ]
  },
  {
   "cell_type": "code",
   "execution_count": 117,
   "metadata": {},
   "outputs": [
    {
     "name": "stdout",
     "output_type": "stream",
     "text": [
      "|   * *    \n",
      "|     *    \n",
      "|     *    \n",
      "|   * *    \n",
      "| *   *    \n",
      "| * * * * *\n"
     ]
    }
   ],
   "source": [
    "result = dhnet.predict(half_two)\n",
    "draw_bin_image(result.reshape((6, 5)))"
   ]
  },
  {
   "cell_type": "markdown",
   "metadata": {},
   "source": [
    "## Hopfield 实现"
   ]
  },
  {
   "cell_type": "code",
   "execution_count": 137,
   "metadata": {},
   "outputs": [],
   "source": [
    "\n",
    "class HOP(object):\n",
    "    def __init__(self, N):\n",
    "\n",
    "        self.N = N\n",
    "        # Weight Matrix\n",
    "        self.W = np.zeros((N, N), dtype = floatType)\n",
    "\n",
    "\n",
    "    def kroneckerSquareProduct(self, factor):\n",
    "        ksProduct = np.zeros((self.N, self.N), dtype = floatType)\n",
    "\n",
    " \n",
    "        for i in range(0, self.N):\n",
    "            ksProduct[i] = factor[i] * factor\n",
    "\n",
    "        return ksProduct\n",
    "\n",
    "\n",
    "    def trainOnce(self, inputArray):\n",
    "\n",
    "        mean = float(inputArray.sum()) / inputArray.shape[0]\n",
    "        self.W = self.W + self.kroneckerSquareProduct(inputArray - mean) / (self.N * self.N) / mean / (1 - mean)\n",
    "\n",
    "\n",
    "        index = range(0, self.N)\n",
    "        self.W[index, index] = 0.\n",
    "\n",
    "    def hopTrain(self, stableStateList):\n",
    "\n",
    "        stableState = np.asarray(stableStateList, dtype = uintType)\n",
    "\n",
    "\n",
    "        if np.amin(stableState) < 0 or np.amax(stableState) > 1:\n",
    "            print ('Vector Range ERROR!')\n",
    "            return\n",
    "\n",
    "        print(stableState.shape,\"shape\")\n",
    "        if len(stableState.shape) == 1 and stableState.shape[0] == self.N:\n",
    "            print ('stableState count: 1')\n",
    "            self.trainOnce(stableState)\n",
    "        elif len(stableState.shape) == 2 and stableState.shape[1] == self.N:\n",
    "            print ('stableState count: ' + str(stableState.shape[0])) \n",
    "            for i in range(0, stableState.shape[0]):\n",
    "                self.trainOnce(stableState[i])\n",
    "        else:\n",
    "            print ('SS Dimension ERROR! Training Aborted.')\n",
    "            return\n",
    "        print ('Hopfield Training Complete.')\n",
    "\n",
    "    def hopRun(self, inputList):\n",
    "\n",
    "        inputArray = np.asarray(inputList, dtype = floatType)\n",
    "        inputArray = inputArray.squeeze()\n",
    "\n",
    "        if len(inputArray.shape) != 1 or inputArray.shape[0] != self.N:\n",
    "            print ('Input Dimension ERROR! Runing Aborted.')\n",
    "            return\n",
    "\n",
    "\n",
    "        matrix = np.tile(inputArray, (self.N, 1))\n",
    "        matrix = self.W * matrix\n",
    "        ouputArray = matrix.sum(1)\n",
    "\n",
    "        m = float(np.amin(ouputArray))\n",
    "        M = float(np.amax(ouputArray))\n",
    "        ouputArray = (ouputArray - m) / (M - m)\n",
    "\n",
    "\n",
    "        ouputArray[ouputArray < 0.5] = 0.\n",
    "        ouputArray[ouputArray > 0] = 1.\n",
    "\n",
    "        return np.asarray(ouputArray, dtype = uintType)\n",
    "\n",
    "\n",
    "    def hopReset(self):\n",
    "\n",
    "        self.W = np.zeros((self.N, self.N), dtype = floatType)"
   ]
  },
  {
   "cell_type": "code",
   "execution_count": 138,
   "metadata": {},
   "outputs": [],
   "source": [
    "uintType = np.uint8\n",
    "floatType = np.float32\n",
    "hop = HOP(5 * 6)"
   ]
  },
  {
   "cell_type": "code",
   "execution_count": 139,
   "metadata": {},
   "outputs": [
    {
     "name": "stdout",
     "output_type": "stream",
     "text": [
      "(3, 30) shape\n",
      "stableState count: 3\n",
      "Hopfield Training Complete.\n"
     ]
    }
   ],
   "source": [
    "hop.hopTrain([zero, one, two])"
   ]
  },
  {
   "cell_type": "code",
   "execution_count": 140,
   "metadata": {},
   "outputs": [
    {
     "name": "stdout",
     "output_type": "stream",
     "text": [
      "| * * *    \n",
      "|       *  \n",
      "|       *  \n",
      "|          \n",
      "|          \n",
      "|          \n"
     ]
    }
   ],
   "source": [
    "draw_bin_image(half_two.reshape((6, 5)))"
   ]
  },
  {
   "cell_type": "code",
   "execution_count": 141,
   "metadata": {},
   "outputs": [
    {
     "name": "stdout",
     "output_type": "stream",
     "text": [
      "| * * *    \n",
      "|       *  \n",
      "|       *  \n",
      "|   * *    \n",
      "| *        \n",
      "| * * * * *\n"
     ]
    }
   ],
   "source": [
    "result = hop.hopRun(half_two)\n",
    "draw_bin_image(result.reshape((6, 5)))"
   ]
  },
  {
   "cell_type": "code",
   "execution_count": 142,
   "metadata": {},
   "outputs": [
    {
     "name": "stdout",
     "output_type": "stream",
     "text": [
      "| * * *    \n",
      "|       *  \n",
      "| *   *    \n",
      "|   * * *  \n",
      "| *        \n",
      "|   *   * *\n"
     ]
    }
   ],
   "source": [
    "noise_two = add_noise(two,0.2)\n",
    "draw_bin_image(noise_two.reshape(6,5))"
   ]
  },
  {
   "cell_type": "code",
   "execution_count": 143,
   "metadata": {},
   "outputs": [
    {
     "name": "stdout",
     "output_type": "stream",
     "text": [
      "| * * *    \n",
      "|       *  \n",
      "|       *  \n",
      "|   * *    \n",
      "| *        \n",
      "| * * * * *\n"
     ]
    }
   ],
   "source": [
    "result = hop.hopRun(noise_two)\n",
    "draw_bin_image(result.reshape((6, 5)))"
   ]
  },
  {
   "cell_type": "code",
   "execution_count": 144,
   "metadata": {},
   "outputs": [
    {
     "name": "stdout",
     "output_type": "stream",
     "text": [
      "| *   * *  \n",
      "| *   *   *\n",
      "| *   *   *\n",
      "| *       *\n",
      "| *   *   *\n",
      "|   * *    \n"
     ]
    }
   ],
   "source": [
    "noise_zero = add_noise(zero,0.2)\n",
    "draw_bin_image(noise_zero.reshape(6,5))"
   ]
  },
  {
   "cell_type": "code",
   "execution_count": 146,
   "metadata": {},
   "outputs": [
    {
     "name": "stdout",
     "output_type": "stream",
     "text": [
      "|   * * *  \n",
      "| *       *\n",
      "| *       *\n",
      "| *       *\n",
      "| *       *\n",
      "|   * * *  \n"
     ]
    }
   ],
   "source": [
    "result = hop.hopRun(noise_zero)\n",
    "draw_bin_image(result.reshape((6, 5)))"
   ]
  },
  {
   "cell_type": "markdown",
   "metadata": {},
   "source": [
    "## Mnist 手写数字"
   ]
  },
  {
   "cell_type": "code",
   "execution_count": 156,
   "metadata": {},
   "outputs": [
    {
     "name": "stdout",
     "output_type": "stream",
     "text": [
      "Extracting MNIST_data/train-images-idx3-ubyte.gz\n",
      "Extracting MNIST_data/train-labels-idx1-ubyte.gz\n",
      "Extracting MNIST_data/t10k-images-idx3-ubyte.gz\n",
      "Extracting MNIST_data/t10k-labels-idx1-ubyte.gz\n"
     ]
    }
   ],
   "source": [
    "import tensorflow as tf\n",
    "from tensorflow.examples.tutorials.mnist import input_data\n",
    "from matplotlib import pyplot as plt\n",
    "# 获取数据\n",
    "mnist = input_data.read_data_sets(\"MNIST_data/\", one_hot=True)"
   ]
  },
  {
   "cell_type": "code",
   "execution_count": 160,
   "metadata": {},
   "outputs": [
    {
     "data": {
      "image/png": "[encoded data removed]",
      "text/plain": [
       "<Figure size 432x288 with 1 Axes>"
      ]
     },
     "metadata": {},
     "output_type": "display_data"
    },
    {
     "data": {
      "image/png": "[encoded data removed]",
      "text/plain": [
       "<Figure size 432x288 with 1 Axes>"
      ]
     },
     "metadata": {},
     "output_type": "display_data"
    },
    {
     "name": "stdout",
     "output_type": "stream",
     "text": [
      "|                                                        \n",
      "|                                                        \n",
      "|                                                        \n",
      "|                                                        \n",
      "|                                                        \n",
      "|                     * * * * * * * * * *                \n",
      "|                   * * * * * * * * * * * *              \n",
      "|                   * * * * *   * * * * * * *            \n",
      "|                 * * * * *         * * * * *            \n",
      "|                 * * * * *           * * * *            \n",
      "|                 * * * *             * * * * *          \n",
      "|               * * * *                 * * * *          \n",
      "|               * * * *                 * * * *          \n",
      "|               * * * *                 * * * *          \n",
      "|               * * * *                 * * * *          \n",
      "|               * * * *                 * * * *          \n",
      "|               * * * *                 * * * *          \n",
      "|               * * * *                 * * * *          \n",
      "|               * * * *               * * * * *          \n",
      "|               * * * *               * * * * *          \n",
      "|               * * * *             * * * * *            \n",
      "|               * * * * * *       * * * * *              \n",
      "|                 * * * * * * * * * * * *                \n",
      "|                   * * * * * * * * * * *                \n",
      "|                     * * * * * * * *                    \n",
      "|                                                        \n",
      "|                                                        \n",
      "|                                                        \n"
     ]
    }
   ],
   "source": [
    "eight = mnist.train.images[5]>0\n",
    "one = mnist.train.images[6]>0\n",
    "nine = mnist.train.images[8]>0\n",
    "zero = mnist.train.images[10]>0\n",
    "plt.imshow(one.reshape(28,28))\n",
    "plt.show()\n",
    "plt.imshow(mnist.train.images[6].reshape(28,28))\n",
    "plt.show()\n",
    "draw_bin_image(zero.reshape(28,28)>0)"
   ]
  },
  {
   "cell_type": "code",
   "execution_count": 148,
   "metadata": {},
   "outputs": [
    {
     "name": "stdout",
     "output_type": "stream",
     "text": [
      "(4, 784) shape\n",
      "stableState count: 4\n",
      "Hopfield Training Complete.\n"
     ]
    }
   ],
   "source": [
    "hop = HOP(28 * 28)\n",
    "hop.hopTrain([one, nine, zero,eight])"
   ]
  },
  {
   "cell_type": "code",
   "execution_count": 151,
   "metadata": {},
   "outputs": [
    {
     "name": "stdout",
     "output_type": "stream",
     "text": [
      "|                             *     *     *              \n",
      "|                 *   *       *           * *         *  \n",
      "|       *               * *       *     *       *        \n",
      "| *   *       *                           * *     *   *  \n",
      "|       *                               *       *   *    \n",
      "| *     *     *         * * *   * *   * *     * *        \n",
      "|   * *           * * * * * * *       * *       * *      \n",
      "|     * *           *   * * * * * * * * * * *            \n",
      "| * *   * *         * * * * *       * * * * *            \n",
      "|                 * * * * *           * * *             *\n",
      "|   *           * * * * *   *     *   * * * * *       *  \n",
      "| *     *   * * * * * *   *             *       *        \n",
      "|       * *   * * * * *   * * * *   *   *   *     * * *  \n",
      "|           * *   * *     *             * *   *          \n",
      "|               * * * *       * *         *   *          \n",
      "|     *         * * * *         *       * *              \n",
      "| *   *   * * * * * * *   *   * *         * * * *       *\n",
      "|   * *       * * *   *                 * * * *       *  \n",
      "|                 * * * *             * * * *            \n",
      "|   * *       * * * * *         * *   * * * * *          \n",
      "|       *         *   *         *   * * *   *           *\n",
      "| *   *         * * * *   *       * * * * *           *  \n",
      "|           *       *   *   * * * * * * * *              \n",
      "|     *   *         * * * * * * * * * * * *     * * *   *\n",
      "|     * *   *         * *     * * * * *   *             *\n",
      "|                         *         * *   *              \n",
      "| *             * * *     *       *       *         *    \n",
      "|       *               *     *                          \n"
     ]
    }
   ],
   "source": [
    "noise_zero = add_noise(zero,0.2)\n",
    "draw_bin_image(noise_zero.reshape(28,28))"
   ]
  },
  {
   "cell_type": "code",
   "execution_count": 153,
   "metadata": {},
   "outputs": [
    {
     "name": "stdout",
     "output_type": "stream",
     "text": [
      "|                                                        \n",
      "|                                                        \n",
      "|                                                        \n",
      "|                                                        \n",
      "|                                                        \n",
      "|                     * * * * * * * * * *                \n",
      "|                   * * * * * * * * * * * *              \n",
      "|                   * * * * *   * * * * * * *            \n",
      "|                 * * * * *         * * * * *            \n",
      "|                 * * * * *           * * * *            \n",
      "|                 * * * *             * * * * *          \n",
      "|               * * * *                 * * * *          \n",
      "|               * * * *                 * * * *          \n",
      "|               * * * *                 * * * *          \n",
      "|               * * * *                 * * * *          \n",
      "|               * * * *                 * * * *          \n",
      "|               * * * *                 * * * *          \n",
      "|               * * * *                 * * * *          \n",
      "|               * * * *               * * * * *          \n",
      "|               * * * *               * * * * *          \n",
      "|               * * * *             * * * * *            \n",
      "|               * * * * * *       * * * * *              \n",
      "|                 * * * * * * * * * * * *                \n",
      "|                   * * * * * * * * * * *                \n",
      "|                     * * * * * * * *                    \n",
      "|                                                        \n",
      "|                                                        \n",
      "|                                                        \n"
     ]
    }
   ],
   "source": [
    "result = hop.hopRun(noise_zero)\n",
    "draw_bin_image(result.reshape((28, 28)))"
   ]
  },
  {
   "cell_type": "code",
   "execution_count": 154,
   "metadata": {},
   "outputs": [
    {
     "name": "stdout",
     "output_type": "stream",
     "text": [
      "|         *   *   *   *           *               * *    \n",
      "|                       *       *                        \n",
      "|     *       *   *   *       *                         *\n",
      "|             *   *                   *     * * *        \n",
      "| *       *   *         *     *   *                      \n",
      "|   *       *                   * *   * *   * *          \n",
      "|     *         *           * * * * * *   * * * *        \n",
      "|           *     *         * * * * * * * * *   *   * *  \n",
      "| *               *   * * * *   * * * * * *   * *        \n",
      "| *               *     * * * * *         * * *          \n",
      "|       *               *   * *         *   *       *   *\n",
      "| * *               *       * *   * * * * * *            \n",
      "|   * *         *       * * *       * *     *            \n",
      "|             *     *   * * *   * * * * * *   *     *    \n",
      "|     *       *     * * * * * * * *   *                  \n",
      "|   * * *   *         * *   * * *   *                    \n",
      "|             *     * * *   * * * * * *   *              \n",
      "|               * * * * * * * * * * *   *   *   * *      \n",
      "|         *   * * * * * * *     * *     *     *          \n",
      "|             * * * *             * *   *       *   * *  \n",
      "| *   * *     * *       *       * * * * *   *       * *  \n",
      "|         * * *   * * * *   * * * * * * *   *            \n",
      "|         *     * *   *   *   * * *   *       *         *\n",
      "|             *   * * * * *     * * *     *             *\n",
      "|   *       *       * * * * * *   *         * *   *      \n",
      "|         *   *                       *     *     *      \n",
      "|       * *       *   *                   *              \n",
      "|           *   *     *   *       * * *     *   *       *\n"
     ]
    }
   ],
   "source": [
    "noise_eight = add_noise(eight,0.2)\n",
    "draw_bin_image(noise_eight.reshape(28,28))"
   ]
  },
  {
   "cell_type": "code",
   "execution_count": 155,
   "metadata": {},
   "outputs": [
    {
     "name": "stdout",
     "output_type": "stream",
     "text": [
      "|                                                        \n",
      "|                                                        \n",
      "|                                                        \n",
      "|                                                        \n",
      "|                                                        \n",
      "|                               * * * * *                \n",
      "|                           * * * * * * * *              \n",
      "|                           * * * * * * * * *            \n",
      "|                       * * * * * * * * * * *            \n",
      "|                       * * * * *         * *            \n",
      "|                       *   * *       * * * *            \n",
      "|                           *     * * * * * *            \n",
      "|                           *     * * * * * *            \n",
      "|                           * * * * * * * *              \n",
      "|                       * * * * * * * *                  \n",
      "|                     * * * * * * * *                    \n",
      "|                 * * * * * * * *   * *                  \n",
      "|               * * * * * * * *   * * *                  \n",
      "|               * * * * * *       * * * *                \n",
      "|               * * *             * * * *                \n",
      "|               * *             * * * * *                \n",
      "|               * * * *     * * * * * * *                \n",
      "|                 * * * * * * * * * * *                  \n",
      "|                   * * * * * * * * *                    \n",
      "|                     * * * * *                          \n",
      "|                                                        \n",
      "|                                                        \n",
      "|                                                        \n"
     ]
    }
   ],
   "source": [
    "result = hop.hopRun(noise_eight)\n",
    "draw_bin_image(result.reshape((28, 28)))"
   ]
  },
  {
   "cell_type": "markdown",
   "metadata": {},
   "source": [
    "### 使用mnist 相同数字但是不同图像作为“噪声”输入"
   ]
  },
  {
   "cell_type": "code",
   "execution_count": 180,
   "metadata": {},
   "outputs": [
    {
     "data": {
      "image/png": "[encoded data removed]",
      "text/plain": [
       "<Figure size 432x288 with 1 Axes>"
      ]
     },
     "metadata": {},
     "output_type": "display_data"
    },
    {
     "name": "stdout",
     "output_type": "stream",
     "text": [
      "|                                                        \n",
      "|                                                        \n",
      "|                                                        \n",
      "|                                                        \n",
      "|                                                        \n",
      "|                                                        \n",
      "|                         * * * * * * * * *              \n",
      "|                     * * * * * * * * * * * *            \n",
      "|                   * * * * * * * * * * * * * *          \n",
      "|                   * * * * * * *       * * * * *        \n",
      "|                   * * *       * * * * * * * * * * *    \n",
      "|                   * * * * * * * * * * * * * * * * *    \n",
      "|                     * * * * * * * * * * * * * *        \n",
      "|                   * * * * * * * * *     * *            \n",
      "|                 * * * * * * * * *                      \n",
      "|               * * * * * * * * * *                      \n",
      "|             * * * * *       * * * *                    \n",
      "|             * * * * * *       * * *                    \n",
      "|             * * * *           * * *                    \n",
      "|             * * *             * * *                    \n",
      "|             * * *           * * * *                    \n",
      "|             * * *           * * * *                    \n",
      "|             * * * *   * * * * * *                      \n",
      "|             * * * * * * * * * * *                      \n",
      "|                 * * * * * * * *                        \n",
      "|                 * * * * * *                            \n",
      "|                                                        \n",
      "|                                                        \n"
     ]
    }
   ],
   "source": [
    "new_eight = mnist.train.images[29]>0\n",
    "plt.imshow(new_eight.reshape(28,28))\n",
    "plt.show()\n",
    "draw_bin_image(new_eight.reshape((28, 28)))"
   ]
  },
  {
   "cell_type": "code",
   "execution_count": 181,
   "metadata": {},
   "outputs": [
    {
     "name": "stdout",
     "output_type": "stream",
     "text": [
      "|                                                        \n",
      "|                                                        \n",
      "|                                                        \n",
      "|                                                        \n",
      "|                                                        \n",
      "|                               * * * * *                \n",
      "|                           * * * * * * * *              \n",
      "|                           * * * * * * * * *            \n",
      "|                       * * * * * * * * * * *            \n",
      "|                       * * * * *         * *            \n",
      "|                       *   * *       * * * *            \n",
      "|                           *     * * * * * *            \n",
      "|                           *     * * * * * *            \n",
      "|                           * * * * * * * *              \n",
      "|                       * * * * * * * *                  \n",
      "|                     * * * * * * * *                    \n",
      "|                 * * * * * * * *   * *                  \n",
      "|               * * * * * * * *   * * *                  \n",
      "|               * * * * * *       * * * *                \n",
      "|               * * *             * * * *                \n",
      "|               * *             * * * * *                \n",
      "|               * * * *     * * * * * * *                \n",
      "|                 * * * * * * * * * * *                  \n",
      "|                   * * * * * * * * *                    \n",
      "|                     * * * * *                          \n",
      "|                                                        \n",
      "|                                                        \n",
      "|                                                        \n"
     ]
    }
   ],
   "source": [
    "result = hop.hopRun(new_eight)\n",
    "draw_bin_image(result.reshape((28, 28)))"
   ]
  }
 ],
 "metadata": {
  "kernelspec": {
   "display_name": "Python 3",
   "language": "python",
   "name": "python3"
  },
  "language_info": {
   "codemirror_mode": {
    "name": "ipython",
    "version": 3
   },
   "file_extension": ".py",
   "mimetype": "text/x-python",
   "name": "python",
   "nbconvert_exporter": "python",
   "pygments_lexer": "ipython3",
   "version": "3.6.5"
  }
 },
 "nbformat": 4,
 "nbformat_minor": 2
}
