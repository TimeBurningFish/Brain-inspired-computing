{
 "cells": [
  {
   "cell_type": "markdown",
   "metadata": {},
   "source": [
    "# 感知机"
   ]
  },
  {
   "cell_type": "code",
   "execution_count": 1,
   "metadata": {},
   "outputs": [],
   "source": [
    "import numpy as np\n",
    "import matplotlib as mpl\n",
    "from matplotlib import pyplot as plt\n",
    "from matplotlib.animation import FuncAnimation\n",
    "import sys"
   ]
  },
  {
   "cell_type": "code",
   "execution_count": 2,
   "metadata": {},
   "outputs": [],
   "source": [
    "def show(data,label,fig = None , ax = None):\n",
    "    if not fig:\n",
    "        fig = plt.figure()\n",
    "    if not ax:\n",
    "        ax = fig.add_subplot(111)\n",
    "    X = data[:, 0]\n",
    "    Y = data[:, 1]\n",
    "    for i in range(len(label)):\n",
    "        if label[i] > 0:\n",
    "            ax.scatter(X[i].tolist(), Y[i].tolist(), color='red')\n",
    "        else:\n",
    "            ax.scatter(X[i].tolist(), Y[i].tolist(), color='green')\n",
    "    return fig"
   ]
  },
  {
   "cell_type": "markdown",
   "metadata": {},
   "source": [
    "### 数据——或"
   ]
  },
  {
   "cell_type": "code",
   "execution_count": 3,
   "metadata": {},
   "outputs": [
    {
     "data": {
      "image/png": "[encoded data removed]",
      "text/plain": [
       "<Figure size 432x288 with 1 Axes>"
      ]
     },
     "metadata": {},
     "output_type": "display_data"
    }
   ],
   "source": [
    "train_data = np.array([[1,0,1],[1,1,1],[0,0,1],[0,1,1]]) ##第三维度是bias\n",
    "\n",
    "train_label = np.array([1,1,-1,1])\n",
    "\n",
    "fig = show(train_data,train_label)\n"
   ]
  },
  {
   "cell_type": "code",
   "execution_count": 4,
   "metadata": {},
   "outputs": [],
   "source": [
    "class perceptron(object):\n",
    "    def __init__(self,lr= 0.001):\n",
    "        #设定权值向量(w0,w1,w2),权值范围为-1,1\n",
    "        self.W = (np.random.random(3)-0.5)\n",
    "\n",
    "        #设定学习率\n",
    "        self.lr = lr\n",
    "        #计算迭代次数\n",
    "        self.n=0;\n",
    "        #神经网络输出\n",
    "        self.O=0;\n",
    "\n",
    "\n",
    "    def update(self,X,Y):\n",
    "        self.n=self.n+1;\n",
    "        O=np.sign(np.dot(X,self.W.T))##使用阶跃函数        \n",
    "        #计算权值差\n",
    "        W_Tmp = self.lr*((Y-O.T).dot(X))\n",
    "        self.W = self.W+W_Tmp;"
   ]
  },
  {
   "cell_type": "code",
   "execution_count": 5,
   "metadata": {},
   "outputs": [],
   "source": [
    "def train_once(x,y,save_name='line.gif',epoch = 100,lr = 0.001,mindata = -0.5,maxdata = 1.5):\n",
    "    fig, ax = plt.subplots()\n",
    "    fig.set_tight_layout(True)\n",
    "\n",
    "    # 询问图形在屏幕上的大小和DPI（每英寸点数）\n",
    "    # 注意当把图形保存为文件时，需要为此单独再提供一个DPI\n",
    "    # print('fig size: {0} DPI, size in inches {1}'.format(\n",
    "    #     fig.get_dpi(), fig.get_size_inches()))\n",
    "\n",
    "    p = perceptron(lr = lr)\n",
    "\n",
    "    # 绘制一个保持不变（不会被重新绘制）的散点图以及初始直线\n",
    "    show(x,y,fig,ax)\n",
    "    xdata=np.linspace(mindata,maxdata)\n",
    "\n",
    "    W = p.W\n",
    "\n",
    "    k=-W[1]/W[0]\n",
    "    d=-W[2]/W[0]\n",
    "\n",
    "    line, = ax.plot(xdata, xdata*k+d, 'y-', linewidth=1)\n",
    "\n",
    "\n",
    "    def update(i):\n",
    "\n",
    "        p.update(x,y)\n",
    "        label = 'timestep {0}'.format(i)\n",
    "    #     print(label)\n",
    "        # 更新直线和轴（用一个新X轴标签）\n",
    "        # 以元组形式返回这一帧需要重新绘制的物体\n",
    "        W = p.W\n",
    "\n",
    "        k= -W[1]/W[0]\n",
    "        d= -W[2]/W[0]\n",
    "\n",
    "        line.set_ydata(xdata*k+d)\n",
    "        ax.set_xlabel(label)\n",
    "        return line, ax\n",
    "    anim = FuncAnimation(fig, update, frames=np.arange(0, epoch), interval=200)\n",
    "\n",
    "    anim.save(save_name, dpi=100, writer='imagemagick')"
   ]
  },
  {
   "cell_type": "code",
   "execution_count": 6,
   "metadata": {},
   "outputs": [
    {
     "name": "stderr",
     "output_type": "stream",
     "text": [
      "/dl_data/zhouyang/anaconda3/lib/python3.6/site-packages/matplotlib/figure.py:2267: UserWarning: This figure includes Axes that are not compatible with tight_layout, so results might be incorrect.\n",
      "  warnings.warn(\"This figure includes Axes that are not compatible \"\n"
     ]
    },
    {
     "data": {
      "image/png": "[encoded data removed]",
      "text/plain": [
       "<Figure size 432x288 with 1 Axes>"
      ]
     },
     "metadata": {},
     "output_type": "display_data"
    }
   ],
   "source": [
    "train_once(x = train_data,y = train_label,save_name = \"line_lr_0_1.gif\",lr = 1)"
   ]
  },
  {
   "cell_type": "code",
   "execution_count": 7,
   "metadata": {},
   "outputs": [
    {
     "name": "stderr",
     "output_type": "stream",
     "text": [
      "/dl_data/zhouyang/anaconda3/lib/python3.6/site-packages/matplotlib/figure.py:2267: UserWarning: This figure includes Axes that are not compatible with tight_layout, so results might be incorrect.\n",
      "  warnings.warn(\"This figure includes Axes that are not compatible \"\n"
     ]
    },
    {
     "data": {
      "image/png": "[encoded data removed]",
      "text/plain": [
       "<Figure size 432x288 with 1 Axes>"
      ]
     },
     "metadata": {},
     "output_type": "display_data"
    }
   ],
   "source": [
    "train_once(x = train_data,y = train_label,save_name = \"line_lr_0_01.gif\",lr = 0.01)"
   ]
  },
  {
   "cell_type": "code",
   "execution_count": 8,
   "metadata": {},
   "outputs": [
    {
     "name": "stderr",
     "output_type": "stream",
     "text": [
      "/dl_data/zhouyang/anaconda3/lib/python3.6/site-packages/matplotlib/figure.py:2267: UserWarning: This figure includes Axes that are not compatible with tight_layout, so results might be incorrect.\n",
      "  warnings.warn(\"This figure includes Axes that are not compatible \"\n"
     ]
    },
    {
     "data": {
      "image/png": "[encoded data removed]",
      "text/plain": [
       "<Figure size 432x288 with 1 Axes>"
      ]
     },
     "metadata": {},
     "output_type": "display_data"
    }
   ],
   "source": [
    "train_once(x = train_data,y = train_label,save_name = \"line_lr_0_05.gif\",lr = 0.05)"
   ]
  },
  {
   "cell_type": "markdown",
   "metadata": {},
   "source": [
    "### 结果\n",
    "\n",
    "<img src = \"line1.gif\"/>\n",
    "* lr = 0.1\n",
    "\n",
    "<img src = \"line2.gif\"/>\n",
    "* lr = 0.05\n",
    "\n",
    "<img src = \"line3.gif\"/>\n",
    "* lr = 0.01"
   ]
  },
  {
   "cell_type": "markdown",
   "metadata": {},
   "source": [
    "## 更多数据尝试"
   ]
  },
  {
   "cell_type": "code",
   "execution_count": 9,
   "metadata": {},
   "outputs": [
    {
     "name": "stdout",
     "output_type": "stream",
     "text": [
      "[9.86103443 9.82161002]\n"
     ]
    },
    {
     "data": {
      "text/plain": [
       "<Figure size 432x288 with 0 Axes>"
      ]
     },
     "metadata": {},
     "output_type": "display_data"
    }
   ],
   "source": [
    "f = open('ex4x.dat','r+')\n",
    "x = f.readlines()\n",
    "x = np.array([[float(ii) for ii in i.strip('\\n').split()]  for i in x]) ##去换行符\n",
    "f = open('ex4y.dat','r+')\n",
    "y = f.readlines()\n",
    "y = np.array([ float(i.strip('\\n'))  for i in y]) ##去换行符\n",
    "figure = plt.figure()\n",
    "\n",
    "##归一化\n",
    "\n",
    "y[y == 0] = -1.0\n",
    "m = len(y)\n",
    "x1 = x[:,0]\n",
    "x2 = x[:,1]\n",
    "x = np.array([x1,x2,np.ones(m)])\n",
    "x = x.T\n",
    "y = y.T\n",
    "##normalization\n",
    "mu = np.array([np.mean(x[:,0]),np.mean(x[:,1])])\n",
    "sigma = np.array([np.std(x[:,0]),np.std(x[:,1])])\n",
    "print(sigma)\n",
    "x[:,0] = (x[:,0] - mu[0])/sigma[0]\n",
    "x[:,1] = (x[:,1] - mu[1])/sigma[1]\n",
    "\n",
    "x1 = x[:,0]\n",
    "x2 = x[:,1]"
   ]
  },
  {
   "cell_type": "code",
   "execution_count": 10,
   "metadata": {},
   "outputs": [
    {
     "data": {
      "image/png": "[encoded data removed]",
      "text/plain": [
       "<Figure size 432x288 with 1 Axes>"
      ]
     },
     "metadata": {},
     "output_type": "display_data"
    }
   ],
   "source": [
    "plt.plot( x[np.where(y == 1.0)][:,0],x[np.where(y == 1.0)][:,1],'o',label = 'admitted')\n",
    "plt.plot( x[np.where(y == -1.0)][:,0],x[np.where(y == -1.0)][:,1],'x',label = 'not admitted')\n",
    "plt.legend()\n",
    "plt.xlabel(\"exam1\")\n",
    "plt.ylabel(\"exam2\")\n",
    "\n",
    "plt.savefig('dataaa2.png')"
   ]
  },
  {
   "cell_type": "markdown",
   "metadata": {},
   "source": [
    "### 数据\n",
    "<img src = \"dataaa2.png\">"
   ]
  },
  {
   "cell_type": "code",
   "execution_count": 11,
   "metadata": {},
   "outputs": [
    {
     "name": "stderr",
     "output_type": "stream",
     "text": [
      "/dl_data/zhouyang/anaconda3/lib/python3.6/site-packages/matplotlib/figure.py:2267: UserWarning: This figure includes Axes that are not compatible with tight_layout, so results might be incorrect.\n",
      "  warnings.warn(\"This figure includes Axes that are not compatible \"\n"
     ]
    },
    {
     "data": {
      "image/png": "[encoded data removed]",
      "text/plain": [
       "<Figure size 432x288 with 1 Axes>"
      ]
     },
     "metadata": {},
     "output_type": "display_data"
    }
   ],
   "source": [
    "train_once(x = x,y = y,save_name = \"line4.gif\",lr = 0.001,mindata = -3,maxdata = 3)"
   ]
  },
  {
   "cell_type": "markdown",
   "metadata": {},
   "source": [
    "### 结果\n",
    "<img src = \"line5.gif\"/>"
   ]
  }
 ],
 "metadata": {
  "kernelspec": {
   "display_name": "Python 3",
   "language": "python",
   "name": "python3"
  },
  "language_info": {
   "codemirror_mode": {
    "name": "ipython",
    "version": 3
   },
   "file_extension": ".py",
   "mimetype": "text/x-python",
   "name": "python",
   "nbconvert_exporter": "python",
   "pygments_lexer": "ipython3",
   "version": "3.6.5"
  }
 },
 "nbformat": 4,
 "nbformat_minor": 2
}
